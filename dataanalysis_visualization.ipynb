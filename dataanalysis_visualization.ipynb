{
 "cells": [
  {
   "cell_type": "markdown",
   "metadata": {
    "_uuid": "bc6b894f7ef9daa776ca6fec6694d1b70d46cd98"
   },
   "source": [
    "# Cleaning Data\n",
    "\n",
    "<a class=\"anchor\" id=\"1.\"></a> \n",
    "# Diagnose data for cleaning"
   ]
  },
  {
   "cell_type": "code",
   "execution_count": 1,
   "metadata": {
    "_uuid": "92e426478c88e674de6db55dd579986947d2c89a",
    "collapsed": true
   },
   "outputs": [
    {
     "data": {
      "text/html": [
       "<div>\n",
       "<style scoped>\n",
       "    .dataframe tbody tr th:only-of-type {\n",
       "        vertical-align: middle;\n",
       "    }\n",
       "\n",
       "    .dataframe tbody tr th {\n",
       "        vertical-align: top;\n",
       "    }\n",
       "\n",
       "    .dataframe thead th {\n",
       "        text-align: right;\n",
       "    }\n",
       "</style>\n",
       "<table border=\"1\" class=\"dataframe\">\n",
       "  <thead>\n",
       "    <tr style=\"text-align: right;\">\n",
       "      <th></th>\n",
       "      <th>class_id</th>\n",
       "      <th>x</th>\n",
       "      <th>y</th>\n",
       "      <th>w</th>\n",
       "      <th>h</th>\n",
       "      <th>center_x</th>\n",
       "      <th>center_y</th>\n",
       "      <th>area</th>\n",
       "      <th>region</th>\n",
       "    </tr>\n",
       "  </thead>\n",
       "  <tbody>\n",
       "    <tr>\n",
       "      <th>0</th>\n",
       "      <td>3</td>\n",
       "      <td>0.964453</td>\n",
       "      <td>0.313889</td>\n",
       "      <td>0.030469</td>\n",
       "      <td>0.080556</td>\n",
       "      <td>0.979688</td>\n",
       "      <td>0.354167</td>\n",
       "      <td>0.002454</td>\n",
       "      <td>1</td>\n",
       "    </tr>\n",
       "    <tr>\n",
       "      <th>1</th>\n",
       "      <td>3</td>\n",
       "      <td>0.963672</td>\n",
       "      <td>0.329861</td>\n",
       "      <td>0.030469</td>\n",
       "      <td>0.079167</td>\n",
       "      <td>0.978907</td>\n",
       "      <td>0.369445</td>\n",
       "      <td>0.002412</td>\n",
       "      <td>1</td>\n",
       "    </tr>\n",
       "    <tr>\n",
       "      <th>2</th>\n",
       "      <td>3</td>\n",
       "      <td>0.967969</td>\n",
       "      <td>0.329167</td>\n",
       "      <td>0.031250</td>\n",
       "      <td>0.077778</td>\n",
       "      <td>0.983594</td>\n",
       "      <td>0.368056</td>\n",
       "      <td>0.002431</td>\n",
       "      <td>1</td>\n",
       "    </tr>\n",
       "    <tr>\n",
       "      <th>3</th>\n",
       "      <td>3</td>\n",
       "      <td>0.962500</td>\n",
       "      <td>0.329861</td>\n",
       "      <td>0.031250</td>\n",
       "      <td>0.076389</td>\n",
       "      <td>0.978125</td>\n",
       "      <td>0.368055</td>\n",
       "      <td>0.002387</td>\n",
       "      <td>1</td>\n",
       "    </tr>\n",
       "    <tr>\n",
       "      <th>4</th>\n",
       "      <td>3</td>\n",
       "      <td>0.962109</td>\n",
       "      <td>0.336806</td>\n",
       "      <td>0.032031</td>\n",
       "      <td>0.076389</td>\n",
       "      <td>0.978124</td>\n",
       "      <td>0.375001</td>\n",
       "      <td>0.002447</td>\n",
       "      <td>1</td>\n",
       "    </tr>\n",
       "  </tbody>\n",
       "</table>\n",
       "</div>"
      ],
      "text/plain": [
       "   class_id         x         y         w         h  center_x  center_y  \\\n",
       "0         3  0.964453  0.313889  0.030469  0.080556  0.979688  0.354167   \n",
       "1         3  0.963672  0.329861  0.030469  0.079167  0.978907  0.369445   \n",
       "2         3  0.967969  0.329167  0.031250  0.077778  0.983594  0.368056   \n",
       "3         3  0.962500  0.329861  0.031250  0.076389  0.978125  0.368055   \n",
       "4         3  0.962109  0.336806  0.032031  0.076389  0.978124  0.375001   \n",
       "\n",
       "       area  region  \n",
       "0  0.002454       1  \n",
       "1  0.002412       1  \n",
       "2  0.002431       1  \n",
       "3  0.002387       1  \n",
       "4  0.002447       1  "
      ]
     },
     "execution_count": 1,
     "metadata": {},
     "output_type": "execute_result"
    }
   ],
   "source": [
    "import numpy as np # linear algebra\n",
    "import pandas as pd # data processing, CSV file I/O (e.g. pd.read_csv)\n",
    "import matplotlib.pyplot as plt\n",
    "import seaborn as sns  # visualization tool\n",
    "from subprocess import check_output\n",
    "import os\n",
    "#print(check_output([\"ls\", \"../input\"]).decode(\"utf8\"))\n",
    "data = pd.read_csv('_outputs/all_17-18-19_port_pas_23hataliport___class_analysis.csv')\n",
    "#data.info()\n",
    "data.head()"
   ]
  },
  {
   "cell_type": "code",
   "execution_count": 2,
   "metadata": {
    "_uuid": "658c99bb45a3b4f7594806eb24f2778f44dff8b4",
    "collapsed": true
   },
   "outputs": [
    {
     "data": {
      "text/html": [
       "<div>\n",
       "<style scoped>\n",
       "    .dataframe tbody tr th:only-of-type {\n",
       "        vertical-align: middle;\n",
       "    }\n",
       "\n",
       "    .dataframe tbody tr th {\n",
       "        vertical-align: top;\n",
       "    }\n",
       "\n",
       "    .dataframe thead th {\n",
       "        text-align: right;\n",
       "    }\n",
       "</style>\n",
       "<table border=\"1\" class=\"dataframe\">\n",
       "  <thead>\n",
       "    <tr style=\"text-align: right;\">\n",
       "      <th></th>\n",
       "      <th>class_id</th>\n",
       "      <th>x</th>\n",
       "      <th>y</th>\n",
       "      <th>w</th>\n",
       "      <th>h</th>\n",
       "      <th>center_x</th>\n",
       "      <th>center_y</th>\n",
       "      <th>area</th>\n",
       "      <th>region</th>\n",
       "    </tr>\n",
       "  </thead>\n",
       "  <tbody>\n",
       "    <tr>\n",
       "      <th>156</th>\n",
       "      <td>3</td>\n",
       "      <td>0.968750</td>\n",
       "      <td>0.281944</td>\n",
       "      <td>0.031250</td>\n",
       "      <td>0.091667</td>\n",
       "      <td>0.984375</td>\n",
       "      <td>0.327777</td>\n",
       "      <td>0.002865</td>\n",
       "      <td>1</td>\n",
       "    </tr>\n",
       "    <tr>\n",
       "      <th>157</th>\n",
       "      <td>3</td>\n",
       "      <td>0.962109</td>\n",
       "      <td>0.292361</td>\n",
       "      <td>0.032031</td>\n",
       "      <td>0.084722</td>\n",
       "      <td>0.978124</td>\n",
       "      <td>0.334722</td>\n",
       "      <td>0.002714</td>\n",
       "      <td>1</td>\n",
       "    </tr>\n",
       "    <tr>\n",
       "      <th>158</th>\n",
       "      <td>3</td>\n",
       "      <td>0.972266</td>\n",
       "      <td>0.301389</td>\n",
       "      <td>0.032031</td>\n",
       "      <td>0.083333</td>\n",
       "      <td>0.988282</td>\n",
       "      <td>0.343056</td>\n",
       "      <td>0.002669</td>\n",
       "      <td>1</td>\n",
       "    </tr>\n",
       "    <tr>\n",
       "      <th>159</th>\n",
       "      <td>3</td>\n",
       "      <td>0.970313</td>\n",
       "      <td>0.309028</td>\n",
       "      <td>0.031250</td>\n",
       "      <td>0.081944</td>\n",
       "      <td>0.985938</td>\n",
       "      <td>0.350000</td>\n",
       "      <td>0.002561</td>\n",
       "      <td>1</td>\n",
       "    </tr>\n",
       "    <tr>\n",
       "      <th>160</th>\n",
       "      <td>0</td>\n",
       "      <td>0.501563</td>\n",
       "      <td>0.397222</td>\n",
       "      <td>0.048438</td>\n",
       "      <td>0.088889</td>\n",
       "      <td>0.525782</td>\n",
       "      <td>0.441667</td>\n",
       "      <td>0.004306</td>\n",
       "      <td>1</td>\n",
       "    </tr>\n",
       "  </tbody>\n",
       "</table>\n",
       "</div>"
      ],
      "text/plain": [
       "     class_id         x         y         w         h  center_x  center_y  \\\n",
       "156         3  0.968750  0.281944  0.031250  0.091667  0.984375  0.327777   \n",
       "157         3  0.962109  0.292361  0.032031  0.084722  0.978124  0.334722   \n",
       "158         3  0.972266  0.301389  0.032031  0.083333  0.988282  0.343056   \n",
       "159         3  0.970313  0.309028  0.031250  0.081944  0.985938  0.350000   \n",
       "160         0  0.501563  0.397222  0.048438  0.088889  0.525782  0.441667   \n",
       "\n",
       "         area  region  \n",
       "156  0.002865       1  \n",
       "157  0.002714       1  \n",
       "158  0.002669       1  \n",
       "159  0.002561       1  \n",
       "160  0.004306       1  "
      ]
     },
     "execution_count": 2,
     "metadata": {},
     "output_type": "execute_result"
    }
   ],
   "source": [
    "data.tail()"
   ]
  },
  {
   "cell_type": "code",
   "execution_count": 3,
   "metadata": {
    "_uuid": "93fefeaaca0388aa8399ddf82a8b4de0c50af673",
    "collapsed": true
   },
   "outputs": [
    {
     "data": {
      "text/plain": [
       "Index(['class_id', 'x', 'y', 'w', 'h', 'center_x', 'center_y', 'area',\n",
       "       'region'],\n",
       "      dtype='object')"
      ]
     },
     "execution_count": 3,
     "metadata": {},
     "output_type": "execute_result"
    }
   ],
   "source": [
    "data.columns"
   ]
  },
  {
   "cell_type": "code",
   "execution_count": 35,
   "metadata": {
    "_uuid": "706572b0895ef4bf6fc36cd0469f73ec7b1b8a90",
    "collapsed": true
   },
   "outputs": [
    {
     "data": {
      "text/plain": [
       "(526, 9)"
      ]
     },
     "execution_count": 35,
     "metadata": {},
     "output_type": "execute_result"
    }
   ],
   "source": [
    "data.shape"
   ]
  },
  {
   "cell_type": "code",
   "execution_count": 36,
   "metadata": {
    "_uuid": "8c0f5cd04c73d27923b6552135909467fd7d65c3",
    "collapsed": true
   },
   "outputs": [
    {
     "name": "stdout",
     "output_type": "stream",
     "text": [
      "<class 'pandas.core.frame.DataFrame'>\n",
      "RangeIndex: 526 entries, 0 to 525\n",
      "Data columns (total 9 columns):\n",
      " #   Column    Non-Null Count  Dtype  \n",
      "---  ------    --------------  -----  \n",
      " 0   class_id  526 non-null    int64  \n",
      " 1   x         526 non-null    float64\n",
      " 2   y         526 non-null    float64\n",
      " 3   w         526 non-null    float64\n",
      " 4   h         526 non-null    float64\n",
      " 5   center_x  526 non-null    float64\n",
      " 6   center_y  526 non-null    float64\n",
      " 7   area      526 non-null    float64\n",
      " 8   region    526 non-null    int64  \n",
      "dtypes: float64(7), int64(2)\n",
      "memory usage: 37.1 KB\n"
     ]
    }
   ],
   "source": [
    "data.info()"
   ]
  },
  {
   "cell_type": "markdown",
   "metadata": {
    "_uuid": "bf0fe6ebbc8a0d4944da7b6ce5f0fb7a7c92b336"
   },
   "source": [
    "<a class=\"anchor\" id=\"2.\"></a> \n",
    "#  Exploratory data analysis (EDA)"
   ]
  },
  {
   "cell_type": "code",
   "execution_count": 37,
   "metadata": {
    "_uuid": "ae3bd94f78635bc432d54a5da42754fb58199644",
    "collapsed": true
   },
   "outputs": [
    {
     "name": "stdout",
     "output_type": "stream",
     "text": [
      "2    312\n",
      "1    110\n",
      "0    104\n",
      "Name: class_id, dtype: int64\n"
     ]
    }
   ],
   "source": [
    "print(data['class_id'].value_counts(dropna =False))  # if there are nan values that also be counted"
   ]
  },
  {
   "cell_type": "code",
   "execution_count": 38,
   "metadata": {
    "_uuid": "b4f15b26c935597a0c57929729a8b3d8c6a5e093",
    "collapsed": true
   },
   "outputs": [
    {
     "data": {
      "text/html": [
       "<div>\n",
       "<style scoped>\n",
       "    .dataframe tbody tr th:only-of-type {\n",
       "        vertical-align: middle;\n",
       "    }\n",
       "\n",
       "    .dataframe tbody tr th {\n",
       "        vertical-align: top;\n",
       "    }\n",
       "\n",
       "    .dataframe thead th {\n",
       "        text-align: right;\n",
       "    }\n",
       "</style>\n",
       "<table border=\"1\" class=\"dataframe\">\n",
       "  <thead>\n",
       "    <tr style=\"text-align: right;\">\n",
       "      <th></th>\n",
       "      <th>class_id</th>\n",
       "      <th>x</th>\n",
       "      <th>y</th>\n",
       "      <th>w</th>\n",
       "      <th>h</th>\n",
       "      <th>center_x</th>\n",
       "      <th>center_y</th>\n",
       "      <th>area</th>\n",
       "      <th>region</th>\n",
       "    </tr>\n",
       "  </thead>\n",
       "  <tbody>\n",
       "    <tr>\n",
       "      <th>count</th>\n",
       "      <td>526.000000</td>\n",
       "      <td>526.000000</td>\n",
       "      <td>526.000000</td>\n",
       "      <td>526.000000</td>\n",
       "      <td>526.000000</td>\n",
       "      <td>526.000000</td>\n",
       "      <td>526.000000</td>\n",
       "      <td>526.000000</td>\n",
       "      <td>526.000000</td>\n",
       "    </tr>\n",
       "    <tr>\n",
       "      <th>mean</th>\n",
       "      <td>1.395437</td>\n",
       "      <td>0.503825</td>\n",
       "      <td>0.400256</td>\n",
       "      <td>0.061056</td>\n",
       "      <td>0.107927</td>\n",
       "      <td>0.534353</td>\n",
       "      <td>0.454220</td>\n",
       "      <td>0.006992</td>\n",
       "      <td>1.996198</td>\n",
       "    </tr>\n",
       "    <tr>\n",
       "      <th>std</th>\n",
       "      <td>0.797316</td>\n",
       "      <td>0.038896</td>\n",
       "      <td>0.068780</td>\n",
       "      <td>0.015808</td>\n",
       "      <td>0.026153</td>\n",
       "      <td>0.043099</td>\n",
       "      <td>0.065553</td>\n",
       "      <td>0.002672</td>\n",
       "      <td>1.091955</td>\n",
       "    </tr>\n",
       "    <tr>\n",
       "      <th>min</th>\n",
       "      <td>0.000000</td>\n",
       "      <td>0.470313</td>\n",
       "      <td>0.310417</td>\n",
       "      <td>0.029687</td>\n",
       "      <td>0.055556</td>\n",
       "      <td>0.485156</td>\n",
       "      <td>0.370833</td>\n",
       "      <td>0.001649</td>\n",
       "      <td>1.000000</td>\n",
       "    </tr>\n",
       "    <tr>\n",
       "      <th>25%</th>\n",
       "      <td>1.000000</td>\n",
       "      <td>0.471875</td>\n",
       "      <td>0.316840</td>\n",
       "      <td>0.065625</td>\n",
       "      <td>0.116667</td>\n",
       "      <td>0.506250</td>\n",
       "      <td>0.376389</td>\n",
       "      <td>0.008021</td>\n",
       "      <td>1.000000</td>\n",
       "    </tr>\n",
       "    <tr>\n",
       "      <th>50%</th>\n",
       "      <td>2.000000</td>\n",
       "      <td>0.473438</td>\n",
       "      <td>0.454167</td>\n",
       "      <td>0.067187</td>\n",
       "      <td>0.120833</td>\n",
       "      <td>0.507032</td>\n",
       "      <td>0.483334</td>\n",
       "      <td>0.008118</td>\n",
       "      <td>2.000000</td>\n",
       "    </tr>\n",
       "    <tr>\n",
       "      <th>75%</th>\n",
       "      <td>2.000000</td>\n",
       "      <td>0.550781</td>\n",
       "      <td>0.455556</td>\n",
       "      <td>0.068750</td>\n",
       "      <td>0.120833</td>\n",
       "      <td>0.585156</td>\n",
       "      <td>0.516667</td>\n",
       "      <td>0.008203</td>\n",
       "      <td>2.000000</td>\n",
       "    </tr>\n",
       "    <tr>\n",
       "      <th>max</th>\n",
       "      <td>2.000000</td>\n",
       "      <td>0.553125</td>\n",
       "      <td>0.459028</td>\n",
       "      <td>0.073438</td>\n",
       "      <td>0.125000</td>\n",
       "      <td>0.589063</td>\n",
       "      <td>0.519444</td>\n",
       "      <td>0.008874</td>\n",
       "      <td>4.000000</td>\n",
       "    </tr>\n",
       "  </tbody>\n",
       "</table>\n",
       "</div>"
      ],
      "text/plain": [
       "         class_id           x           y           w           h    center_x  \\\n",
       "count  526.000000  526.000000  526.000000  526.000000  526.000000  526.000000   \n",
       "mean     1.395437    0.503825    0.400256    0.061056    0.107927    0.534353   \n",
       "std      0.797316    0.038896    0.068780    0.015808    0.026153    0.043099   \n",
       "min      0.000000    0.470313    0.310417    0.029687    0.055556    0.485156   \n",
       "25%      1.000000    0.471875    0.316840    0.065625    0.116667    0.506250   \n",
       "50%      2.000000    0.473438    0.454167    0.067187    0.120833    0.507032   \n",
       "75%      2.000000    0.550781    0.455556    0.068750    0.120833    0.585156   \n",
       "max      2.000000    0.553125    0.459028    0.073438    0.125000    0.589063   \n",
       "\n",
       "         center_y        area      region  \n",
       "count  526.000000  526.000000  526.000000  \n",
       "mean     0.454220    0.006992    1.996198  \n",
       "std      0.065553    0.002672    1.091955  \n",
       "min      0.370833    0.001649    1.000000  \n",
       "25%      0.376389    0.008021    1.000000  \n",
       "50%      0.483334    0.008118    2.000000  \n",
       "75%      0.516667    0.008203    2.000000  \n",
       "max      0.519444    0.008874    4.000000  "
      ]
     },
     "execution_count": 38,
     "metadata": {},
     "output_type": "execute_result"
    }
   ],
   "source": [
    "data.describe() #ignore null entries"
   ]
  },
  {
   "cell_type": "code",
   "execution_count": 39,
   "metadata": {
    "_uuid": "31ef6e2c497b42a23c8f29d21635af274dcfeedf",
    "collapsed": true
   },
   "outputs": [
    {
     "data": {
      "text/html": [
       "<div>\n",
       "<style scoped>\n",
       "    .dataframe tbody tr th:only-of-type {\n",
       "        vertical-align: middle;\n",
       "    }\n",
       "\n",
       "    .dataframe tbody tr th {\n",
       "        vertical-align: top;\n",
       "    }\n",
       "\n",
       "    .dataframe thead th {\n",
       "        text-align: right;\n",
       "    }\n",
       "</style>\n",
       "<table border=\"1\" class=\"dataframe\">\n",
       "  <thead>\n",
       "    <tr style=\"text-align: right;\">\n",
       "      <th></th>\n",
       "      <th>class_id</th>\n",
       "      <th>x</th>\n",
       "      <th>y</th>\n",
       "      <th>w</th>\n",
       "      <th>h</th>\n",
       "      <th>center_x</th>\n",
       "      <th>center_y</th>\n",
       "      <th>area</th>\n",
       "      <th>region</th>\n",
       "    </tr>\n",
       "  </thead>\n",
       "  <tbody>\n",
       "    <tr>\n",
       "      <th>class_id</th>\n",
       "      <td>1.000000</td>\n",
       "      <td>0.630020</td>\n",
       "      <td>-0.624061</td>\n",
       "      <td>0.884124</td>\n",
       "      <td>0.865372</td>\n",
       "      <td>0.730711</td>\n",
       "      <td>-0.482161</td>\n",
       "      <td>0.882782</td>\n",
       "      <td>-0.912766</td>\n",
       "    </tr>\n",
       "    <tr>\n",
       "      <th>x</th>\n",
       "      <td>0.630020</td>\n",
       "      <td>1.000000</td>\n",
       "      <td>-0.215239</td>\n",
       "      <td>0.458987</td>\n",
       "      <td>0.482274</td>\n",
       "      <td>0.986637</td>\n",
       "      <td>-0.129633</td>\n",
       "      <td>0.491125</td>\n",
       "      <td>-0.395255</td>\n",
       "    </tr>\n",
       "    <tr>\n",
       "      <th>y</th>\n",
       "      <td>-0.624061</td>\n",
       "      <td>-0.215239</td>\n",
       "      <td>1.000000</td>\n",
       "      <td>-0.517065</td>\n",
       "      <td>-0.336047</td>\n",
       "      <td>-0.289071</td>\n",
       "      <td>0.982193</td>\n",
       "      <td>-0.444516</td>\n",
       "      <td>0.740425</td>\n",
       "    </tr>\n",
       "    <tr>\n",
       "      <th>w</th>\n",
       "      <td>0.884124</td>\n",
       "      <td>0.458987</td>\n",
       "      <td>-0.517065</td>\n",
       "      <td>1.000000</td>\n",
       "      <td>0.975045</td>\n",
       "      <td>0.597611</td>\n",
       "      <td>-0.348020</td>\n",
       "      <td>0.995591</td>\n",
       "      <td>-0.954130</td>\n",
       "    </tr>\n",
       "    <tr>\n",
       "      <th>h</th>\n",
       "      <td>0.865372</td>\n",
       "      <td>0.482274</td>\n",
       "      <td>-0.336047</td>\n",
       "      <td>0.975045</td>\n",
       "      <td>1.000000</td>\n",
       "      <td>0.614050</td>\n",
       "      <td>-0.153114</td>\n",
       "      <td>0.990769</td>\n",
       "      <td>-0.878997</td>\n",
       "    </tr>\n",
       "    <tr>\n",
       "      <th>center_x</th>\n",
       "      <td>0.730711</td>\n",
       "      <td>0.986637</td>\n",
       "      <td>-0.289071</td>\n",
       "      <td>0.597611</td>\n",
       "      <td>0.614050</td>\n",
       "      <td>1.000000</td>\n",
       "      <td>-0.180813</td>\n",
       "      <td>0.625806</td>\n",
       "      <td>-0.531684</td>\n",
       "    </tr>\n",
       "    <tr>\n",
       "      <th>center_y</th>\n",
       "      <td>-0.482161</td>\n",
       "      <td>-0.129633</td>\n",
       "      <td>0.982193</td>\n",
       "      <td>-0.348020</td>\n",
       "      <td>-0.153114</td>\n",
       "      <td>-0.180813</td>\n",
       "      <td>1.000000</td>\n",
       "      <td>-0.268764</td>\n",
       "      <td>0.601535</td>\n",
       "    </tr>\n",
       "    <tr>\n",
       "      <th>area</th>\n",
       "      <td>0.882782</td>\n",
       "      <td>0.491125</td>\n",
       "      <td>-0.444516</td>\n",
       "      <td>0.995591</td>\n",
       "      <td>0.990769</td>\n",
       "      <td>0.625806</td>\n",
       "      <td>-0.268764</td>\n",
       "      <td>1.000000</td>\n",
       "      <td>-0.926670</td>\n",
       "    </tr>\n",
       "    <tr>\n",
       "      <th>region</th>\n",
       "      <td>-0.912766</td>\n",
       "      <td>-0.395255</td>\n",
       "      <td>0.740425</td>\n",
       "      <td>-0.954130</td>\n",
       "      <td>-0.878997</td>\n",
       "      <td>-0.531684</td>\n",
       "      <td>0.601535</td>\n",
       "      <td>-0.926670</td>\n",
       "      <td>1.000000</td>\n",
       "    </tr>\n",
       "  </tbody>\n",
       "</table>\n",
       "</div>"
      ],
      "text/plain": [
       "          class_id         x         y         w         h  center_x  \\\n",
       "class_id  1.000000  0.630020 -0.624061  0.884124  0.865372  0.730711   \n",
       "x         0.630020  1.000000 -0.215239  0.458987  0.482274  0.986637   \n",
       "y        -0.624061 -0.215239  1.000000 -0.517065 -0.336047 -0.289071   \n",
       "w         0.884124  0.458987 -0.517065  1.000000  0.975045  0.597611   \n",
       "h         0.865372  0.482274 -0.336047  0.975045  1.000000  0.614050   \n",
       "center_x  0.730711  0.986637 -0.289071  0.597611  0.614050  1.000000   \n",
       "center_y -0.482161 -0.129633  0.982193 -0.348020 -0.153114 -0.180813   \n",
       "area      0.882782  0.491125 -0.444516  0.995591  0.990769  0.625806   \n",
       "region   -0.912766 -0.395255  0.740425 -0.954130 -0.878997 -0.531684   \n",
       "\n",
       "          center_y      area    region  \n",
       "class_id -0.482161  0.882782 -0.912766  \n",
       "x        -0.129633  0.491125 -0.395255  \n",
       "y         0.982193 -0.444516  0.740425  \n",
       "w        -0.348020  0.995591 -0.954130  \n",
       "h        -0.153114  0.990769 -0.878997  \n",
       "center_x -0.180813  0.625806 -0.531684  \n",
       "center_y  1.000000 -0.268764  0.601535  \n",
       "area     -0.268764  1.000000 -0.926670  \n",
       "region    0.601535 -0.926670  1.000000  "
      ]
     },
     "execution_count": 39,
     "metadata": {},
     "output_type": "execute_result"
    }
   ],
   "source": [
    "data.corr()"
   ]
  },
  {
   "cell_type": "code",
   "execution_count": 40,
   "metadata": {
    "_uuid": "ce7a92174cd6dda7ed5242931c03ebcd538563d0",
    "collapsed": true
   },
   "outputs": [
    {
     "data": {
      "image/png": "[encoded data removed]",
      "text/plain": [
       "<Figure size 648x648 with 2 Axes>"
      ]
     },
     "metadata": {
      "needs_background": "light"
     },
     "output_type": "display_data"
    }
   ],
   "source": [
    "#correlation map\n",
    "f,ax = plt.subplots(figsize=(9, 9))\n",
    "sns.heatmap(data.corr(), annot=True, linewidths=.5, fmt= '.1f',ax=ax)\n",
    "plt.show()"
   ]
  },
  {
   "cell_type": "markdown",
   "metadata": {
    "_uuid": "b54d390708e4132cd4e49f73ed4f481ce4f82ad2"
   },
   "source": [
    "<a class=\"anchor\" id=\"3.\"></a> \n",
    "# Visual exploratory data analysis"
   ]
  },
  {
   "cell_type": "code",
   "execution_count": 4,
   "metadata": {
    "_uuid": "8f97226d8ceb06a389b732288f3a0e0135d8422f",
    "collapsed": true
   },
   "outputs": [
    {
     "data": {
      "text/plain": [
       "<AxesSubplot:title={'center':'class_id'}, xlabel='region'>"
      ]
     },
     "execution_count": 4,
     "metadata": {},
     "output_type": "execute_result"
    },
    {
     "data": {
      "image/png": "[encoded data removed]",
      "text/plain": [
       "<Figure size 640x480 with 1 Axes>"
      ]
     },
     "metadata": {},
     "output_type": "display_data"
    }
   ],
   "source": [
    "data.boxplot(column='class_id',by = 'region')\n",
    "# For example: compare attack of pokemons that are legendary  or not\n",
    "# Black line at top is max\n",
    "# Blue line at top is 75%\n",
    "# Red line is median (50%)\n",
    "# Blue line at bottom is 25%\n",
    "# Black line at bottom is min\n",
    "# There are no outliers"
   ]
  },
  {
   "cell_type": "markdown",
   "metadata": {
    "_uuid": "6c93a61e1cb91af9ded9f85ec1e267bdb171b1d3"
   },
   "source": [
    "<a class=\"anchor\" id=\"4.\"></a> \n",
    "# Tidy data"
   ]
  },
  {
   "cell_type": "code",
   "execution_count": 5,
   "metadata": {
    "_uuid": "ecbea0cf4ef0155488a32e1c19b1621fab8c3b7d",
    "collapsed": true
   },
   "outputs": [
    {
     "data": {
      "text/html": [
       "<div>\n",
       "<style scoped>\n",
       "    .dataframe tbody tr th:only-of-type {\n",
       "        vertical-align: middle;\n",
       "    }\n",
       "\n",
       "    .dataframe tbody tr th {\n",
       "        vertical-align: top;\n",
       "    }\n",
       "\n",
       "    .dataframe thead th {\n",
       "        text-align: right;\n",
       "    }\n",
       "</style>\n",
       "<table border=\"1\" class=\"dataframe\">\n",
       "  <thead>\n",
       "    <tr style=\"text-align: right;\">\n",
       "      <th></th>\n",
       "      <th>class_id</th>\n",
       "      <th>x</th>\n",
       "      <th>y</th>\n",
       "      <th>w</th>\n",
       "      <th>h</th>\n",
       "      <th>center_x</th>\n",
       "      <th>center_y</th>\n",
       "      <th>area</th>\n",
       "      <th>region</th>\n",
       "    </tr>\n",
       "  </thead>\n",
       "  <tbody>\n",
       "    <tr>\n",
       "      <th>0</th>\n",
       "      <td>3</td>\n",
       "      <td>0.964453</td>\n",
       "      <td>0.313889</td>\n",
       "      <td>0.030469</td>\n",
       "      <td>0.080556</td>\n",
       "      <td>0.979688</td>\n",
       "      <td>0.354167</td>\n",
       "      <td>0.002454</td>\n",
       "      <td>1</td>\n",
       "    </tr>\n",
       "    <tr>\n",
       "      <th>1</th>\n",
       "      <td>3</td>\n",
       "      <td>0.963672</td>\n",
       "      <td>0.329861</td>\n",
       "      <td>0.030469</td>\n",
       "      <td>0.079167</td>\n",
       "      <td>0.978907</td>\n",
       "      <td>0.369445</td>\n",
       "      <td>0.002412</td>\n",
       "      <td>1</td>\n",
       "    </tr>\n",
       "    <tr>\n",
       "      <th>2</th>\n",
       "      <td>3</td>\n",
       "      <td>0.967969</td>\n",
       "      <td>0.329167</td>\n",
       "      <td>0.031250</td>\n",
       "      <td>0.077778</td>\n",
       "      <td>0.983594</td>\n",
       "      <td>0.368056</td>\n",
       "      <td>0.002431</td>\n",
       "      <td>1</td>\n",
       "    </tr>\n",
       "    <tr>\n",
       "      <th>3</th>\n",
       "      <td>3</td>\n",
       "      <td>0.962500</td>\n",
       "      <td>0.329861</td>\n",
       "      <td>0.031250</td>\n",
       "      <td>0.076389</td>\n",
       "      <td>0.978125</td>\n",
       "      <td>0.368055</td>\n",
       "      <td>0.002387</td>\n",
       "      <td>1</td>\n",
       "    </tr>\n",
       "    <tr>\n",
       "      <th>4</th>\n",
       "      <td>3</td>\n",
       "      <td>0.962109</td>\n",
       "      <td>0.336806</td>\n",
       "      <td>0.032031</td>\n",
       "      <td>0.076389</td>\n",
       "      <td>0.978124</td>\n",
       "      <td>0.375001</td>\n",
       "      <td>0.002447</td>\n",
       "      <td>1</td>\n",
       "    </tr>\n",
       "  </tbody>\n",
       "</table>\n",
       "</div>"
      ],
      "text/plain": [
       "   class_id         x         y         w         h  center_x  center_y  \\\n",
       "0         3  0.964453  0.313889  0.030469  0.080556  0.979688  0.354167   \n",
       "1         3  0.963672  0.329861  0.030469  0.079167  0.978907  0.369445   \n",
       "2         3  0.967969  0.329167  0.031250  0.077778  0.983594  0.368056   \n",
       "3         3  0.962500  0.329861  0.031250  0.076389  0.978125  0.368055   \n",
       "4         3  0.962109  0.336806  0.032031  0.076389  0.978124  0.375001   \n",
       "\n",
       "       area  region  \n",
       "0  0.002454       1  \n",
       "1  0.002412       1  \n",
       "2  0.002431       1  \n",
       "3  0.002387       1  \n",
       "4  0.002447       1  "
      ]
     },
     "execution_count": 5,
     "metadata": {},
     "output_type": "execute_result"
    }
   ],
   "source": [
    "data_new = data.head()    # I only take 5 rows into new data\n",
    "data_new"
   ]
  },
  {
   "cell_type": "code",
   "execution_count": 6,
   "metadata": {
    "_uuid": "f457a5df92bea8bec10afeafffdf79914b92d0bd",
    "collapsed": true
   },
   "outputs": [
    {
     "data": {
      "text/html": [
       "<div>\n",
       "<style scoped>\n",
       "    .dataframe tbody tr th:only-of-type {\n",
       "        vertical-align: middle;\n",
       "    }\n",
       "\n",
       "    .dataframe tbody tr th {\n",
       "        vertical-align: top;\n",
       "    }\n",
       "\n",
       "    .dataframe thead th {\n",
       "        text-align: right;\n",
       "    }\n",
       "</style>\n",
       "<table border=\"1\" class=\"dataframe\">\n",
       "  <thead>\n",
       "    <tr style=\"text-align: right;\">\n",
       "      <th></th>\n",
       "      <th>class_id</th>\n",
       "      <th>variable</th>\n",
       "      <th>value</th>\n",
       "    </tr>\n",
       "  </thead>\n",
       "  <tbody>\n",
       "    <tr>\n",
       "      <th>0</th>\n",
       "      <td>3</td>\n",
       "      <td>region</td>\n",
       "      <td>1</td>\n",
       "    </tr>\n",
       "    <tr>\n",
       "      <th>1</th>\n",
       "      <td>3</td>\n",
       "      <td>region</td>\n",
       "      <td>1</td>\n",
       "    </tr>\n",
       "    <tr>\n",
       "      <th>2</th>\n",
       "      <td>3</td>\n",
       "      <td>region</td>\n",
       "      <td>1</td>\n",
       "    </tr>\n",
       "    <tr>\n",
       "      <th>3</th>\n",
       "      <td>3</td>\n",
       "      <td>region</td>\n",
       "      <td>1</td>\n",
       "    </tr>\n",
       "    <tr>\n",
       "      <th>4</th>\n",
       "      <td>3</td>\n",
       "      <td>region</td>\n",
       "      <td>1</td>\n",
       "    </tr>\n",
       "  </tbody>\n",
       "</table>\n",
       "</div>"
      ],
      "text/plain": [
       "   class_id variable  value\n",
       "0         3   region      1\n",
       "1         3   region      1\n",
       "2         3   region      1\n",
       "3         3   region      1\n",
       "4         3   region      1"
      ]
     },
     "execution_count": 6,
     "metadata": {},
     "output_type": "execute_result"
    }
   ],
   "source": [
    "# lets melt\n",
    "# id_vars = what we do not wish to melt\n",
    "# value_vars = what we want to melt\n",
    "melted = pd.melt(frame=data_new,id_vars = 'class_id', value_vars= ['region'])\n",
    "melted"
   ]
  },
  {
   "cell_type": "markdown",
   "metadata": {
    "_uuid": "4bfe7da86e98875be125130ca485d6e980d6b05d"
   },
   "source": [
    "<a class=\"anchor\" id=\"6.\"></a> \n",
    "# Concatenating data"
   ]
  },
  {
   "cell_type": "code",
   "execution_count": 7,
   "metadata": {
    "_uuid": "4117289f4684e568c3bc4870d421519cd1104afe",
    "collapsed": true
   },
   "outputs": [
    {
     "data": {
      "text/html": [
       "<div>\n",
       "<style scoped>\n",
       "    .dataframe tbody tr th:only-of-type {\n",
       "        vertical-align: middle;\n",
       "    }\n",
       "\n",
       "    .dataframe tbody tr th {\n",
       "        vertical-align: top;\n",
       "    }\n",
       "\n",
       "    .dataframe thead th {\n",
       "        text-align: right;\n",
       "    }\n",
       "</style>\n",
       "<table border=\"1\" class=\"dataframe\">\n",
       "  <thead>\n",
       "    <tr style=\"text-align: right;\">\n",
       "      <th></th>\n",
       "      <th>class_id</th>\n",
       "      <th>x</th>\n",
       "      <th>y</th>\n",
       "      <th>w</th>\n",
       "      <th>h</th>\n",
       "      <th>center_x</th>\n",
       "      <th>center_y</th>\n",
       "      <th>area</th>\n",
       "      <th>region</th>\n",
       "    </tr>\n",
       "  </thead>\n",
       "  <tbody>\n",
       "    <tr>\n",
       "      <th>0</th>\n",
       "      <td>3</td>\n",
       "      <td>0.964453</td>\n",
       "      <td>0.313889</td>\n",
       "      <td>0.030469</td>\n",
       "      <td>0.080556</td>\n",
       "      <td>0.979688</td>\n",
       "      <td>0.354167</td>\n",
       "      <td>0.002454</td>\n",
       "      <td>1</td>\n",
       "    </tr>\n",
       "    <tr>\n",
       "      <th>1</th>\n",
       "      <td>3</td>\n",
       "      <td>0.963672</td>\n",
       "      <td>0.329861</td>\n",
       "      <td>0.030469</td>\n",
       "      <td>0.079167</td>\n",
       "      <td>0.978907</td>\n",
       "      <td>0.369445</td>\n",
       "      <td>0.002412</td>\n",
       "      <td>1</td>\n",
       "    </tr>\n",
       "    <tr>\n",
       "      <th>2</th>\n",
       "      <td>3</td>\n",
       "      <td>0.967969</td>\n",
       "      <td>0.329167</td>\n",
       "      <td>0.031250</td>\n",
       "      <td>0.077778</td>\n",
       "      <td>0.983594</td>\n",
       "      <td>0.368056</td>\n",
       "      <td>0.002431</td>\n",
       "      <td>1</td>\n",
       "    </tr>\n",
       "    <tr>\n",
       "      <th>3</th>\n",
       "      <td>3</td>\n",
       "      <td>0.962500</td>\n",
       "      <td>0.329861</td>\n",
       "      <td>0.031250</td>\n",
       "      <td>0.076389</td>\n",
       "      <td>0.978125</td>\n",
       "      <td>0.368055</td>\n",
       "      <td>0.002387</td>\n",
       "      <td>1</td>\n",
       "    </tr>\n",
       "    <tr>\n",
       "      <th>4</th>\n",
       "      <td>3</td>\n",
       "      <td>0.962109</td>\n",
       "      <td>0.336806</td>\n",
       "      <td>0.032031</td>\n",
       "      <td>0.076389</td>\n",
       "      <td>0.978124</td>\n",
       "      <td>0.375001</td>\n",
       "      <td>0.002447</td>\n",
       "      <td>1</td>\n",
       "    </tr>\n",
       "    <tr>\n",
       "      <th>5</th>\n",
       "      <td>3</td>\n",
       "      <td>0.968750</td>\n",
       "      <td>0.281944</td>\n",
       "      <td>0.031250</td>\n",
       "      <td>0.091667</td>\n",
       "      <td>0.984375</td>\n",
       "      <td>0.327777</td>\n",
       "      <td>0.002865</td>\n",
       "      <td>1</td>\n",
       "    </tr>\n",
       "    <tr>\n",
       "      <th>6</th>\n",
       "      <td>3</td>\n",
       "      <td>0.962109</td>\n",
       "      <td>0.292361</td>\n",
       "      <td>0.032031</td>\n",
       "      <td>0.084722</td>\n",
       "      <td>0.978124</td>\n",
       "      <td>0.334722</td>\n",
       "      <td>0.002714</td>\n",
       "      <td>1</td>\n",
       "    </tr>\n",
       "    <tr>\n",
       "      <th>7</th>\n",
       "      <td>3</td>\n",
       "      <td>0.972266</td>\n",
       "      <td>0.301389</td>\n",
       "      <td>0.032031</td>\n",
       "      <td>0.083333</td>\n",
       "      <td>0.988282</td>\n",
       "      <td>0.343056</td>\n",
       "      <td>0.002669</td>\n",
       "      <td>1</td>\n",
       "    </tr>\n",
       "    <tr>\n",
       "      <th>8</th>\n",
       "      <td>3</td>\n",
       "      <td>0.970313</td>\n",
       "      <td>0.309028</td>\n",
       "      <td>0.031250</td>\n",
       "      <td>0.081944</td>\n",
       "      <td>0.985938</td>\n",
       "      <td>0.350000</td>\n",
       "      <td>0.002561</td>\n",
       "      <td>1</td>\n",
       "    </tr>\n",
       "    <tr>\n",
       "      <th>9</th>\n",
       "      <td>0</td>\n",
       "      <td>0.501563</td>\n",
       "      <td>0.397222</td>\n",
       "      <td>0.048438</td>\n",
       "      <td>0.088889</td>\n",
       "      <td>0.525782</td>\n",
       "      <td>0.441667</td>\n",
       "      <td>0.004306</td>\n",
       "      <td>1</td>\n",
       "    </tr>\n",
       "  </tbody>\n",
       "</table>\n",
       "</div>"
      ],
      "text/plain": [
       "   class_id         x         y         w         h  center_x  center_y  \\\n",
       "0         3  0.964453  0.313889  0.030469  0.080556  0.979688  0.354167   \n",
       "1         3  0.963672  0.329861  0.030469  0.079167  0.978907  0.369445   \n",
       "2         3  0.967969  0.329167  0.031250  0.077778  0.983594  0.368056   \n",
       "3         3  0.962500  0.329861  0.031250  0.076389  0.978125  0.368055   \n",
       "4         3  0.962109  0.336806  0.032031  0.076389  0.978124  0.375001   \n",
       "5         3  0.968750  0.281944  0.031250  0.091667  0.984375  0.327777   \n",
       "6         3  0.962109  0.292361  0.032031  0.084722  0.978124  0.334722   \n",
       "7         3  0.972266  0.301389  0.032031  0.083333  0.988282  0.343056   \n",
       "8         3  0.970313  0.309028  0.031250  0.081944  0.985938  0.350000   \n",
       "9         0  0.501563  0.397222  0.048438  0.088889  0.525782  0.441667   \n",
       "\n",
       "       area  region  \n",
       "0  0.002454       1  \n",
       "1  0.002412       1  \n",
       "2  0.002431       1  \n",
       "3  0.002387       1  \n",
       "4  0.002447       1  \n",
       "5  0.002865       1  \n",
       "6  0.002714       1  \n",
       "7  0.002669       1  \n",
       "8  0.002561       1  \n",
       "9  0.004306       1  "
      ]
     },
     "execution_count": 7,
     "metadata": {},
     "output_type": "execute_result"
    }
   ],
   "source": [
    "# Firstly lets create 2 data frame\n",
    "data1 = data.head()\n",
    "data2= data.tail()\n",
    "conc_data_row = pd.concat([data1,data2],axis =0,ignore_index =True) # axis = 0 : adds dataframes in row\n",
    "conc_data_row"
   ]
  },
  {
   "cell_type": "code",
   "execution_count": 8,
   "metadata": {
    "_uuid": "07fe75b42c0ef0c02b2e642f419ed4e2f6b4fe66",
    "collapsed": true
   },
   "outputs": [
    {
     "data": {
      "text/html": [
       "<div>\n",
       "<style scoped>\n",
       "    .dataframe tbody tr th:only-of-type {\n",
       "        vertical-align: middle;\n",
       "    }\n",
       "\n",
       "    .dataframe tbody tr th {\n",
       "        vertical-align: top;\n",
       "    }\n",
       "\n",
       "    .dataframe thead th {\n",
       "        text-align: right;\n",
       "    }\n",
       "</style>\n",
       "<table border=\"1\" class=\"dataframe\">\n",
       "  <thead>\n",
       "    <tr style=\"text-align: right;\">\n",
       "      <th></th>\n",
       "      <th>area</th>\n",
       "      <th>region</th>\n",
       "    </tr>\n",
       "  </thead>\n",
       "  <tbody>\n",
       "    <tr>\n",
       "      <th>0</th>\n",
       "      <td>0.002454</td>\n",
       "      <td>1</td>\n",
       "    </tr>\n",
       "    <tr>\n",
       "      <th>1</th>\n",
       "      <td>0.002412</td>\n",
       "      <td>1</td>\n",
       "    </tr>\n",
       "    <tr>\n",
       "      <th>2</th>\n",
       "      <td>0.002431</td>\n",
       "      <td>1</td>\n",
       "    </tr>\n",
       "    <tr>\n",
       "      <th>3</th>\n",
       "      <td>0.002387</td>\n",
       "      <td>1</td>\n",
       "    </tr>\n",
       "    <tr>\n",
       "      <th>4</th>\n",
       "      <td>0.002447</td>\n",
       "      <td>1</td>\n",
       "    </tr>\n",
       "  </tbody>\n",
       "</table>\n",
       "</div>"
      ],
      "text/plain": [
       "       area  region\n",
       "0  0.002454       1\n",
       "1  0.002412       1\n",
       "2  0.002431       1\n",
       "3  0.002387       1\n",
       "4  0.002447       1"
      ]
     },
     "execution_count": 8,
     "metadata": {},
     "output_type": "execute_result"
    }
   ],
   "source": [
    "data1 = data['area'].head()\n",
    "data2= data['region'].head()\n",
    "conc_data_col = pd.concat([data1,data2],axis =1) # axis = 0 : adds dataframes in row\n",
    "conc_data_col"
   ]
  },
  {
   "cell_type": "markdown",
   "metadata": {
    "_uuid": "f1c63d18b093d0a40a08d213977bfcc60c878b25"
   },
   "source": [
    "<a class=\"anchor\" id=\"7.\"></a> \n",
    "# Data types"
   ]
  },
  {
   "cell_type": "code",
   "execution_count": 9,
   "metadata": {
    "_uuid": "db837c9d2b6a0c91b1b92df43f41667b927192e1",
    "collapsed": true
   },
   "outputs": [
    {
     "name": "stdout",
     "output_type": "stream",
     "text": [
      "class_id      int64\n",
      "x           float64\n",
      "y           float64\n",
      "w           float64\n",
      "h           float64\n",
      "center_x    float64\n",
      "center_y    float64\n",
      "area        float64\n",
      "region        int64\n",
      "dtype: object\n"
     ]
    }
   ],
   "source": [
    "print(data.dtypes)\n",
    "#data['Type 1'] = data['Type 1'].astype('category')\n",
    "#data['Speed'] = data['Speed'].astype('float')\n",
    "#print(data.dtypes)"
   ]
  },
  {
   "cell_type": "markdown",
   "metadata": {
    "_uuid": "a02fee16b14588dccff2b3602cebd9ece9da97a3"
   },
   "source": [
    "# Manipulating Data Frames with Pandas\n",
    "<a class=\"anchor\" id=\"9.\"></a> \n"
   ]
  },
  {
   "cell_type": "markdown",
   "metadata": {
    "_uuid": "8e3e70702b9a616872441aabb0af0563a7749c2b"
   },
   "source": [
    "<a class=\"anchor\" id=\"10.\"></a> \n",
    "# Hierarchical indexing"
   ]
  },
  {
   "cell_type": "code",
   "execution_count": 47,
   "metadata": {
    "_uuid": "642ea7d8bf9f1b72aee676b6d39f8f7842b794e9",
    "collapsed": true
   },
   "outputs": [
    {
     "data": {
      "text/html": [
       "<div>\n",
       "<style scoped>\n",
       "    .dataframe tbody tr th:only-of-type {\n",
       "        vertical-align: middle;\n",
       "    }\n",
       "\n",
       "    .dataframe tbody tr th {\n",
       "        vertical-align: top;\n",
       "    }\n",
       "\n",
       "    .dataframe thead th {\n",
       "        text-align: right;\n",
       "    }\n",
       "</style>\n",
       "<table border=\"1\" class=\"dataframe\">\n",
       "  <thead>\n",
       "    <tr style=\"text-align: right;\">\n",
       "      <th></th>\n",
       "      <th></th>\n",
       "      <th>x</th>\n",
       "      <th>y</th>\n",
       "      <th>w</th>\n",
       "      <th>h</th>\n",
       "      <th>center_x</th>\n",
       "      <th>center_y</th>\n",
       "      <th>area</th>\n",
       "    </tr>\n",
       "    <tr>\n",
       "      <th>class_id</th>\n",
       "      <th>region</th>\n",
       "      <th></th>\n",
       "      <th></th>\n",
       "      <th></th>\n",
       "      <th></th>\n",
       "      <th></th>\n",
       "      <th></th>\n",
       "      <th></th>\n",
       "    </tr>\n",
       "  </thead>\n",
       "  <tbody>\n",
       "    <tr>\n",
       "      <th>0</th>\n",
       "      <th>4</th>\n",
       "      <td>0.471875</td>\n",
       "      <td>0.455556</td>\n",
       "      <td>0.029687</td>\n",
       "      <td>0.055556</td>\n",
       "      <td>0.486718</td>\n",
       "      <td>0.483334</td>\n",
       "      <td>0.001649</td>\n",
       "    </tr>\n",
       "    <tr>\n",
       "      <th>1</th>\n",
       "      <th>2</th>\n",
       "      <td>0.473438</td>\n",
       "      <td>0.459028</td>\n",
       "      <td>0.067187</td>\n",
       "      <td>0.120833</td>\n",
       "      <td>0.507032</td>\n",
       "      <td>0.519444</td>\n",
       "      <td>0.008118</td>\n",
       "    </tr>\n",
       "    <tr>\n",
       "      <th rowspan=\"3\" valign=\"top\">2</th>\n",
       "      <th>2</th>\n",
       "      <td>0.550000</td>\n",
       "      <td>0.452778</td>\n",
       "      <td>0.065625</td>\n",
       "      <td>0.125000</td>\n",
       "      <td>0.582813</td>\n",
       "      <td>0.515278</td>\n",
       "      <td>0.008203</td>\n",
       "    </tr>\n",
       "    <tr>\n",
       "      <th>1</th>\n",
       "      <td>0.550781</td>\n",
       "      <td>0.317361</td>\n",
       "      <td>0.073438</td>\n",
       "      <td>0.120833</td>\n",
       "      <td>0.587500</td>\n",
       "      <td>0.377777</td>\n",
       "      <td>0.008874</td>\n",
       "    </tr>\n",
       "    <tr>\n",
       "      <th>1</th>\n",
       "      <td>0.473438</td>\n",
       "      <td>0.319444</td>\n",
       "      <td>0.068750</td>\n",
       "      <td>0.116667</td>\n",
       "      <td>0.507813</td>\n",
       "      <td>0.377777</td>\n",
       "      <td>0.008021</td>\n",
       "    </tr>\n",
       "    <tr>\n",
       "      <th>0</th>\n",
       "      <th>4</th>\n",
       "      <td>0.471875</td>\n",
       "      <td>0.455556</td>\n",
       "      <td>0.029687</td>\n",
       "      <td>0.055556</td>\n",
       "      <td>0.486718</td>\n",
       "      <td>0.483334</td>\n",
       "      <td>0.001649</td>\n",
       "    </tr>\n",
       "    <tr>\n",
       "      <th>1</th>\n",
       "      <th>2</th>\n",
       "      <td>0.473438</td>\n",
       "      <td>0.459028</td>\n",
       "      <td>0.067187</td>\n",
       "      <td>0.120833</td>\n",
       "      <td>0.507032</td>\n",
       "      <td>0.519444</td>\n",
       "      <td>0.008118</td>\n",
       "    </tr>\n",
       "    <tr>\n",
       "      <th rowspan=\"3\" valign=\"top\">2</th>\n",
       "      <th>2</th>\n",
       "      <td>0.550000</td>\n",
       "      <td>0.452778</td>\n",
       "      <td>0.065625</td>\n",
       "      <td>0.125000</td>\n",
       "      <td>0.582813</td>\n",
       "      <td>0.515278</td>\n",
       "      <td>0.008203</td>\n",
       "    </tr>\n",
       "    <tr>\n",
       "      <th>1</th>\n",
       "      <td>0.550781</td>\n",
       "      <td>0.317361</td>\n",
       "      <td>0.073438</td>\n",
       "      <td>0.120833</td>\n",
       "      <td>0.587500</td>\n",
       "      <td>0.377777</td>\n",
       "      <td>0.008874</td>\n",
       "    </tr>\n",
       "    <tr>\n",
       "      <th>1</th>\n",
       "      <td>0.473438</td>\n",
       "      <td>0.319444</td>\n",
       "      <td>0.068750</td>\n",
       "      <td>0.116667</td>\n",
       "      <td>0.507813</td>\n",
       "      <td>0.377777</td>\n",
       "      <td>0.008021</td>\n",
       "    </tr>\n",
       "  </tbody>\n",
       "</table>\n",
       "</div>"
      ],
      "text/plain": [
       "                        x         y         w         h  center_x  center_y  \\\n",
       "class_id region                                                               \n",
       "0        4       0.471875  0.455556  0.029687  0.055556  0.486718  0.483334   \n",
       "1        2       0.473438  0.459028  0.067187  0.120833  0.507032  0.519444   \n",
       "2        2       0.550000  0.452778  0.065625  0.125000  0.582813  0.515278   \n",
       "         1       0.550781  0.317361  0.073438  0.120833  0.587500  0.377777   \n",
       "         1       0.473438  0.319444  0.068750  0.116667  0.507813  0.377777   \n",
       "0        4       0.471875  0.455556  0.029687  0.055556  0.486718  0.483334   \n",
       "1        2       0.473438  0.459028  0.067187  0.120833  0.507032  0.519444   \n",
       "2        2       0.550000  0.452778  0.065625  0.125000  0.582813  0.515278   \n",
       "         1       0.550781  0.317361  0.073438  0.120833  0.587500  0.377777   \n",
       "         1       0.473438  0.319444  0.068750  0.116667  0.507813  0.377777   \n",
       "\n",
       "                     area  \n",
       "class_id region            \n",
       "0        4       0.001649  \n",
       "1        2       0.008118  \n",
       "2        2       0.008203  \n",
       "         1       0.008874  \n",
       "         1       0.008021  \n",
       "0        4       0.001649  \n",
       "1        2       0.008118  \n",
       "2        2       0.008203  \n",
       "         1       0.008874  \n",
       "         1       0.008021  "
      ]
     },
     "execution_count": 47,
     "metadata": {},
     "output_type": "execute_result"
    }
   ],
   "source": [
    "# Setting index : type 1 is outer type 2 is inner index\n",
    "data1 = data.set_index([\"class_id\",\"region\"]) \n",
    "data1.head(10)\n",
    "# data1.loc[\"Fire\",\"Flying\"] # howw to use indexes"
   ]
  },
  {
   "cell_type": "markdown",
   "metadata": {
    "_uuid": "ca5702b57a7ee619ca33f5f6edd29b346830eda4"
   },
   "source": [
    "# Seaborn\n",
    "\n",
    "<a class=\"anchor\" id=\"15.\"></a> "
   ]
  },
  {
   "cell_type": "markdown",
   "metadata": {
    "_uuid": "dad11703a35650c65dc61b3c0a78081f500c4450"
   },
   "source": [
    " \n",
    "<a class=\"anchor\" id=\"17.\"></a> \n",
    "# Joint Plot"
   ]
  },
  {
   "cell_type": "code",
   "execution_count": 48,
   "metadata": {
    "_uuid": "3e647580023ec73442fe2717e813d493e8d13d9a",
    "collapsed": true
   },
   "outputs": [
    {
     "name": "stderr",
     "output_type": "stream",
     "text": [
      "c:\\FromUbuntu\\Dataset\\test\\venv\\lib\\site-packages\\seaborn\\_decorators.py:43: FutureWarning: Pass the following variables as keyword args: x, y. From version 0.12, the only valid positional argument will be `data`, and passing other arguments without an explicit keyword will result in an error or misinterpretation.\n",
      "  FutureWarning\n",
      "c:\\FromUbuntu\\Dataset\\test\\venv\\lib\\site-packages\\seaborn\\axisgrid.py:2182: UserWarning: The `size` parameter has been renamed to `height`; please update your code.\n",
      "  warnings.warn(msg, UserWarning)\n"
     ]
    },
    {
     "data": {
      "image/png": "[encoded data removed]",
      "text/plain": [
       "<Figure size 360x360 with 3 Axes>"
      ]
     },
     "metadata": {
      "needs_background": "light"
     },
     "output_type": "display_data"
    }
   ],
   "source": [
    "# you can change parameters of joint plot\n",
    "# kind : { “scatter” | “reg” | “resid” | “kde” | “hex” }\n",
    "# Different usage of parameters but same plot with previous one\n",
    "g = sns.jointplot(\"class_id\", \"region\", data=data,size=5, ratio=3, color=\"r\")"
   ]
  },
  {
   "cell_type": "markdown",
   "metadata": {
    "_uuid": "e973693b0dec5cfb2d4d5a6121b6cc615ea9d906"
   },
   "source": [
    "\n",
    "<a class=\"anchor\" id=\"19.\"></a> \n",
    "# Lm Plot"
   ]
  },
  {
   "cell_type": "code",
   "execution_count": 49,
   "metadata": {
    "_uuid": "14d8c912966cb5a35dccb75b98bc44d0d79b4805",
    "collapsed": true
   },
   "outputs": [
    {
     "data": {
      "text/html": [
       "<div>\n",
       "<style scoped>\n",
       "    .dataframe tbody tr th:only-of-type {\n",
       "        vertical-align: middle;\n",
       "    }\n",
       "\n",
       "    .dataframe tbody tr th {\n",
       "        vertical-align: top;\n",
       "    }\n",
       "\n",
       "    .dataframe thead th {\n",
       "        text-align: right;\n",
       "    }\n",
       "</style>\n",
       "<table border=\"1\" class=\"dataframe\">\n",
       "  <thead>\n",
       "    <tr style=\"text-align: right;\">\n",
       "      <th></th>\n",
       "      <th>class_id</th>\n",
       "      <th>x</th>\n",
       "      <th>y</th>\n",
       "      <th>w</th>\n",
       "      <th>h</th>\n",
       "      <th>center_x</th>\n",
       "      <th>center_y</th>\n",
       "      <th>area</th>\n",
       "      <th>region</th>\n",
       "    </tr>\n",
       "  </thead>\n",
       "  <tbody>\n",
       "    <tr>\n",
       "      <th>0</th>\n",
       "      <td>0</td>\n",
       "      <td>0.471875</td>\n",
       "      <td>0.455556</td>\n",
       "      <td>0.029687</td>\n",
       "      <td>0.055556</td>\n",
       "      <td>0.486718</td>\n",
       "      <td>0.483334</td>\n",
       "      <td>0.001649</td>\n",
       "      <td>4</td>\n",
       "    </tr>\n",
       "    <tr>\n",
       "      <th>1</th>\n",
       "      <td>1</td>\n",
       "      <td>0.473438</td>\n",
       "      <td>0.459028</td>\n",
       "      <td>0.067187</td>\n",
       "      <td>0.120833</td>\n",
       "      <td>0.507032</td>\n",
       "      <td>0.519444</td>\n",
       "      <td>0.008118</td>\n",
       "      <td>2</td>\n",
       "    </tr>\n",
       "    <tr>\n",
       "      <th>2</th>\n",
       "      <td>2</td>\n",
       "      <td>0.550000</td>\n",
       "      <td>0.452778</td>\n",
       "      <td>0.065625</td>\n",
       "      <td>0.125000</td>\n",
       "      <td>0.582813</td>\n",
       "      <td>0.515278</td>\n",
       "      <td>0.008203</td>\n",
       "      <td>2</td>\n",
       "    </tr>\n",
       "    <tr>\n",
       "      <th>3</th>\n",
       "      <td>2</td>\n",
       "      <td>0.550781</td>\n",
       "      <td>0.317361</td>\n",
       "      <td>0.073438</td>\n",
       "      <td>0.120833</td>\n",
       "      <td>0.587500</td>\n",
       "      <td>0.377777</td>\n",
       "      <td>0.008874</td>\n",
       "      <td>1</td>\n",
       "    </tr>\n",
       "    <tr>\n",
       "      <th>4</th>\n",
       "      <td>2</td>\n",
       "      <td>0.473438</td>\n",
       "      <td>0.319444</td>\n",
       "      <td>0.068750</td>\n",
       "      <td>0.116667</td>\n",
       "      <td>0.507813</td>\n",
       "      <td>0.377777</td>\n",
       "      <td>0.008021</td>\n",
       "      <td>1</td>\n",
       "    </tr>\n",
       "  </tbody>\n",
       "</table>\n",
       "</div>"
      ],
      "text/plain": [
       "   class_id         x         y         w         h  center_x  center_y  \\\n",
       "0         0  0.471875  0.455556  0.029687  0.055556  0.486718  0.483334   \n",
       "1         1  0.473438  0.459028  0.067187  0.120833  0.507032  0.519444   \n",
       "2         2  0.550000  0.452778  0.065625  0.125000  0.582813  0.515278   \n",
       "3         2  0.550781  0.317361  0.073438  0.120833  0.587500  0.377777   \n",
       "4         2  0.473438  0.319444  0.068750  0.116667  0.507813  0.377777   \n",
       "\n",
       "       area  region  \n",
       "0  0.001649       4  \n",
       "1  0.008118       2  \n",
       "2  0.008203       2  \n",
       "3  0.008874       1  \n",
       "4  0.008021       1  "
      ]
     },
     "execution_count": 49,
     "metadata": {},
     "output_type": "execute_result"
    }
   ],
   "source": [
    "data.head()"
   ]
  },
  {
   "cell_type": "code",
   "execution_count": 50,
   "metadata": {
    "_uuid": "ef8c2433ef658d41e8361da0bd86fb1b54183cb3",
    "collapsed": true
   },
   "outputs": [
    {
     "data": {
      "image/png": "[encoded data removed]",
      "text/plain": [
       "<Figure size 360x360 with 1 Axes>"
      ]
     },
     "metadata": {
      "needs_background": "light"
     },
     "output_type": "display_data"
    }
   ],
   "source": [
    "# Visualization of high school graduation rate vs Poverty rate of each state with different style of seaborn code\n",
    "# lmplot \n",
    "# Show the results of a linear regression within each dataset\n",
    "sns.lmplot(x=\"center_x\", y=\"center_y\", data=data)\n",
    "plt.show()"
   ]
  },
  {
   "cell_type": "markdown",
   "metadata": {
    "_uuid": "9d5fe7a43955623d4b856ac9019f46b0f20e289e"
   },
   "source": [
    "\n",
    "<a class=\"anchor\" id=\"20.\"></a> \n",
    "# Kde Plot"
   ]
  },
  {
   "cell_type": "code",
   "execution_count": 10,
   "metadata": {
    "_uuid": "f7f4e27efd9d5b02d5b0b537cc9d04bb3516e828",
    "collapsed": true
   },
   "outputs": [
    {
     "name": "stderr",
     "output_type": "stream",
     "text": [
      "c:\\Users\\Aircar\\anaconda3\\envs\\test\\lib\\site-packages\\seaborn\\_decorators.py:43: FutureWarning: Pass the following variable as a keyword arg: y. From version 0.12, the only valid positional argument will be `data`, and passing other arguments without an explicit keyword will result in an error or misinterpretation.\n",
      "  FutureWarning\n"
     ]
    },
    {
     "data": {
      "image/png": "[encoded data removed]",
      "text/plain": [
       "<Figure size 640x480 with 1 Axes>"
      ]
     },
     "metadata": {},
     "output_type": "display_data"
    }
   ],
   "source": [
    "sns.kdeplot(data.class_id, data.region, shade=True, cut=3)\n",
    "plt.show()"
   ]
  },
  {
   "cell_type": "markdown",
   "metadata": {
    "_uuid": "8d7d11cd6e10e4faaecebcca92ea26b93a182fec"
   },
   "source": [
    "\n",
    "<a class=\"anchor\" id=\"21.\"></a> \n",
    "# Violin Plot"
   ]
  },
  {
   "cell_type": "code",
   "execution_count": 11,
   "metadata": {
    "_uuid": "fabdb2882f8cf72f15a5a0635979d0eadb295456",
    "collapsed": true
   },
   "outputs": [
    {
     "data": {
      "image/png": "[encoded data removed]",
      "text/plain": [
       "<Figure size 640x480 with 1 Axes>"
      ]
     },
     "metadata": {},
     "output_type": "display_data"
    }
   ],
   "source": [
    "# Show each distribution with both violins and points\n",
    "# Use cubehelix to get a custom sequential palette\n",
    "pal = sns.cubehelix_palette(2, rot=-.5, dark=.3)\n",
    "sns.violinplot(data=data, palette=pal, inner=\"points\")\n",
    "plt.show()"
   ]
  },
  {
   "cell_type": "markdown",
   "metadata": {
    "_uuid": "7056f570e7c379ea7d49faad46e036d79a24deef"
   },
   "source": [
    "\n",
    "<a class=\"anchor\" id=\"22.\"></a> \n",
    "# Heatmap"
   ]
  },
  {
   "cell_type": "code",
   "execution_count": 53,
   "metadata": {
    "_uuid": "7b964cd9f6e0e19c82ff781e4a6c65aad11d9d42",
    "collapsed": true
   },
   "outputs": [
    {
     "data": {
      "image/png": "[encoded data removed]",
      "text/plain": [
       "<Figure size 360x360 with 2 Axes>"
      ]
     },
     "metadata": {
      "needs_background": "light"
     },
     "output_type": "display_data"
    }
   ],
   "source": [
    "#correlation map\n",
    "# Visualization of high school graduation rate vs Poverty rate of each state with different style of seaborn code\n",
    "f,ax = plt.subplots(figsize=(5, 5))\n",
    "sns.heatmap(data.corr(), annot=True, linewidths=0.5,linecolor=\"red\", fmt= '.1f',ax=ax)\n",
    "plt.show()"
   ]
  },
  {
   "cell_type": "markdown",
   "metadata": {
    "_uuid": "190e79794d6a6ab802e02da0e4ca6a4acc8a1f37"
   },
   "source": [
    " \n",
    "<a class=\"anchor\" id=\"25.\"></a> \n",
    "# Pair Plot"
   ]
  },
  {
   "cell_type": "code",
   "execution_count": 54,
   "metadata": {
    "_uuid": "3e2dacdccca37696fe39496bb1b6a4fbd1569565",
    "collapsed": true
   },
   "outputs": [
    {
     "data": {
      "image/png": "[encoded data removed]",
      "text/plain": [
       "<Figure size 1620x1620 with 90 Axes>"
      ]
     },
     "metadata": {
      "needs_background": "light"
     },
     "output_type": "display_data"
    }
   ],
   "source": [
    "# pair plot\n",
    "sns.pairplot(data)\n",
    "plt.show()"
   ]
  },
  {
   "cell_type": "markdown",
   "metadata": {
    "_uuid": "16b5363713cca884f0bc9e054ee01ab9acc26b92"
   },
   "source": [
    "\n",
    "<a class=\"anchor\" id=\"26.\"></a> \n",
    "# Count Plot"
   ]
  },
  {
   "cell_type": "code",
   "execution_count": 12,
   "metadata": {
    "_uuid": "d2dad8070438e81e7a5e2b8bdf5e71550388f34c",
    "collapsed": true
   },
   "outputs": [
    {
     "name": "stderr",
     "output_type": "stream",
     "text": [
      "c:\\Users\\Aircar\\anaconda3\\envs\\test\\lib\\site-packages\\seaborn\\_decorators.py:43: FutureWarning: Pass the following variable as a keyword arg: x. From version 0.12, the only valid positional argument will be `data`, and passing other arguments without an explicit keyword will result in an error or misinterpretation.\n",
      "  FutureWarning\n"
     ]
    },
    {
     "data": {
      "text/plain": [
       "Text(0.5, 1.0, 'class_id')"
      ]
     },
     "execution_count": 12,
     "metadata": {},
     "output_type": "execute_result"
    },
    {
     "data": {
      "image/png": "[encoded data removed]",
      "text/plain": [
       "<Figure size 640x480 with 1 Axes>"
      ]
     },
     "metadata": {},
     "output_type": "display_data"
    }
   ],
   "source": [
    "# kill properties\n",
    "# Manner of death\n",
    "sns.countplot(data.class_id)\n",
    "#sns.countplot(kill.manner_of_death)\n",
    "plt.title(\"class_id\",color = 'blue',fontsize=15)"
   ]
  }
 ],
 "metadata": {
  "kernelspec": {
   "display_name": "Python 3.7.13 ('test')",
   "language": "python",
   "name": "python3"
  },
  "language_info": {
   "codemirror_mode": {
    "name": "ipython",
    "version": 3
   },
   "file_extension": ".py",
   "mimetype": "text/x-python",
   "name": "python",
   "nbconvert_exporter": "python",
   "pygments_lexer": "ipython3",
   "version": "3.7.16"
  },
  "vscode": {
   "interpreter": {
    "hash": "661e86a915b61cc527b03b73df906ef8b57ca6971477456155e2d10779f0fb2f"
   }
  }
 },
 "nbformat": 4,
 "nbformat_minor": 4
}
